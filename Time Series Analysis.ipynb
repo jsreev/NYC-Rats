{
 "cells": [
  {
   "cell_type": "markdown",
   "id": "c4d6e625",
   "metadata": {},
   "source": [
    "### This script contains the following:\n",
    "\n",
    "#### 1. Importing libraries and data\n",
    "#### 2. Subsetting time-series data & markdown comments on data points selection\n",
    "#### 3. Line chart and time series analysis: decomposition\n",
    "#### 4. Dickey-Fuller test for stationarity & results interpretation\n",
    "#### 5. Stationarizing: differencing\n",
    "#### 6. Check for autocorrelations"
   ]
  },
  {
   "cell_type": "markdown",
   "id": "617e8405",
   "metadata": {},
   "source": [
    "### 1. Importing libraries and data"
   ]
  },
  {
   "cell_type": "code",
   "execution_count": 1,
   "id": "5c2bbb9f",
   "metadata": {},
   "outputs": [],
   "source": [
    "# Import libraries.\n",
    "\n",
    "import quandl\n",
    "import pandas as pd\n",
    "import numpy as np\n",
    "import seaborn as sns\n",
    "import matplotlib\n",
    "import matplotlib.pyplot as plt\n",
    "import statsmodels.api as sm # Using .api to import the public access version of statsmodels.\n",
    "import os\n",
    "import warnings # Library that handles warnings.\n",
    "\n",
    "warnings.filterwarnings(\"ignore\") # Disable deprecation warnings.\n",
    "\n",
    "plt.style.use('fivethirtyeight') # Styling option for how plots will appear."
   ]
  },
  {
   "cell_type": "code",
   "execution_count": 2,
   "id": "03986927",
   "metadata": {},
   "outputs": [
    {
     "data": {
      "text/plain": [
       "'C:\\\\Users\\\\danie\\\\Desktop\\\\CareerFoundry\\\\Achievement 6-Personal Project'"
      ]
     },
     "execution_count": 2,
     "metadata": {},
     "output_type": "execute_result"
    }
   ],
   "source": [
    "# Define path.\n",
    "\n",
    "path = r'C:\\Users\\danie\\Desktop\\CareerFoundry\\Achievement 6-Personal Project'\n",
    "path"
   ]
  },
  {
   "cell_type": "code",
   "execution_count": 3,
   "id": "55af17df",
   "metadata": {},
   "outputs": [],
   "source": [
    "# Import data.\n",
    "\n",
    "df = pd.read_csv(os.path.join(path, '02-2024 NYC Rats', '02 Data', 'Prepared Data', 'Rats_Data_Cleaned_4.csv'))"
   ]
  },
  {
   "cell_type": "markdown",
   "id": "9bc348a0",
   "metadata": {},
   "source": [
    "### 2. Subsetting time-series data & markdown comments on data points selection"
   ]
  },
  {
   "cell_type": "code",
   "execution_count": 4,
   "id": "8e0c0b5b",
   "metadata": {},
   "outputs": [
    {
     "data": {
      "text/html": [
       "<div>\n",
       "<style scoped>\n",
       "    .dataframe tbody tr th:only-of-type {\n",
       "        vertical-align: middle;\n",
       "    }\n",
       "\n",
       "    .dataframe tbody tr th {\n",
       "        vertical-align: top;\n",
       "    }\n",
       "\n",
       "    .dataframe thead th {\n",
       "        text-align: right;\n",
       "    }\n",
       "</style>\n",
       "<table border=\"1\" class=\"dataframe\">\n",
       "  <thead>\n",
       "    <tr style=\"text-align: right;\">\n",
       "      <th></th>\n",
       "      <th>Unnamed: 0</th>\n",
       "      <th>INSPECTION_TYPE</th>\n",
       "      <th>JOB_PROGRESS</th>\n",
       "      <th>BORO_CODE</th>\n",
       "      <th>ZIP_CODE</th>\n",
       "      <th>LATITUDE</th>\n",
       "      <th>LONGITUDE</th>\n",
       "      <th>BOROUGH</th>\n",
       "      <th>INSPECTION_DATE</th>\n",
       "      <th>RESULT</th>\n",
       "      <th>LOCATION</th>\n",
       "      <th>COMMUNITY BOARD</th>\n",
       "      <th>COUNCIL DISTRICT</th>\n",
       "      <th>CENSUS TRACT</th>\n",
       "      <th>NEIGHBORHOOD</th>\n",
       "      <th>inspection_year</th>\n",
       "      <th>inspection_month</th>\n",
       "    </tr>\n",
       "  </thead>\n",
       "  <tbody>\n",
       "    <tr>\n",
       "      <th>0</th>\n",
       "      <td>0</td>\n",
       "      <td>Initial</td>\n",
       "      <td>1</td>\n",
       "      <td>2</td>\n",
       "      <td>10451.0</td>\n",
       "      <td>40.826932</td>\n",
       "      <td>-73.925286</td>\n",
       "      <td>Bronx</td>\n",
       "      <td>2016-09-26 13:10:25</td>\n",
       "      <td>Passed</td>\n",
       "      <td>(40.826932154585, -73.925286438191)</td>\n",
       "      <td>4.0</td>\n",
       "      <td>16.0</td>\n",
       "      <td>6301.0</td>\n",
       "      <td>Concourse-Concourse Village</td>\n",
       "      <td>2016</td>\n",
       "      <td>9</td>\n",
       "    </tr>\n",
       "    <tr>\n",
       "      <th>1</th>\n",
       "      <td>1</td>\n",
       "      <td>Initial</td>\n",
       "      <td>1</td>\n",
       "      <td>2</td>\n",
       "      <td>10457.0</td>\n",
       "      <td>40.845931</td>\n",
       "      <td>-73.896556</td>\n",
       "      <td>Bronx</td>\n",
       "      <td>2016-11-29 16:07:06</td>\n",
       "      <td>Passed</td>\n",
       "      <td>(40.845930919837, -73.896555813219)</td>\n",
       "      <td>6.0</td>\n",
       "      <td>15.0</td>\n",
       "      <td>395.0</td>\n",
       "      <td>Tremont</td>\n",
       "      <td>2016</td>\n",
       "      <td>11</td>\n",
       "    </tr>\n",
       "    <tr>\n",
       "      <th>2</th>\n",
       "      <td>2</td>\n",
       "      <td>Initial</td>\n",
       "      <td>1</td>\n",
       "      <td>1</td>\n",
       "      <td>10031.0</td>\n",
       "      <td>40.822391</td>\n",
       "      <td>-73.946768</td>\n",
       "      <td>Manhattan</td>\n",
       "      <td>2014-09-03 10:12:14</td>\n",
       "      <td>Passed</td>\n",
       "      <td>(40.822390591115, -73.946767934183)</td>\n",
       "      <td>9.0</td>\n",
       "      <td>9.0</td>\n",
       "      <td>227.0</td>\n",
       "      <td>Hamilton Heights-Sugar Hill</td>\n",
       "      <td>2014</td>\n",
       "      <td>9</td>\n",
       "    </tr>\n",
       "    <tr>\n",
       "      <th>3</th>\n",
       "      <td>3</td>\n",
       "      <td>Initial</td>\n",
       "      <td>1</td>\n",
       "      <td>2</td>\n",
       "      <td>10458.0</td>\n",
       "      <td>40.873780</td>\n",
       "      <td>-73.885892</td>\n",
       "      <td>Bronx</td>\n",
       "      <td>2023-02-02 14:50:46</td>\n",
       "      <td>Passed</td>\n",
       "      <td>(40.873779859166, -73.885892352785)</td>\n",
       "      <td>7.0</td>\n",
       "      <td>11.0</td>\n",
       "      <td>413.0</td>\n",
       "      <td>Bedford Park</td>\n",
       "      <td>2023</td>\n",
       "      <td>2</td>\n",
       "    </tr>\n",
       "    <tr>\n",
       "      <th>4</th>\n",
       "      <td>4</td>\n",
       "      <td>Initial</td>\n",
       "      <td>1</td>\n",
       "      <td>1</td>\n",
       "      <td>10009.0</td>\n",
       "      <td>40.728739</td>\n",
       "      <td>-73.981585</td>\n",
       "      <td>Manhattan</td>\n",
       "      <td>2019-04-04 09:57:25</td>\n",
       "      <td>Passed</td>\n",
       "      <td>(40.728739451411, -73.98158466403)</td>\n",
       "      <td>3.0</td>\n",
       "      <td>2.0</td>\n",
       "      <td>34.0</td>\n",
       "      <td>East Village</td>\n",
       "      <td>2019</td>\n",
       "      <td>4</td>\n",
       "    </tr>\n",
       "  </tbody>\n",
       "</table>\n",
       "</div>"
      ],
      "text/plain": [
       "   Unnamed: 0 INSPECTION_TYPE  JOB_PROGRESS  BORO_CODE  ZIP_CODE   LATITUDE  \\\n",
       "0           0         Initial             1          2   10451.0  40.826932   \n",
       "1           1         Initial             1          2   10457.0  40.845931   \n",
       "2           2         Initial             1          1   10031.0  40.822391   \n",
       "3           3         Initial             1          2   10458.0  40.873780   \n",
       "4           4         Initial             1          1   10009.0  40.728739   \n",
       "\n",
       "   LONGITUDE    BOROUGH      INSPECTION_DATE  RESULT  \\\n",
       "0 -73.925286      Bronx  2016-09-26 13:10:25  Passed   \n",
       "1 -73.896556      Bronx  2016-11-29 16:07:06  Passed   \n",
       "2 -73.946768  Manhattan  2014-09-03 10:12:14  Passed   \n",
       "3 -73.885892      Bronx  2023-02-02 14:50:46  Passed   \n",
       "4 -73.981585  Manhattan  2019-04-04 09:57:25  Passed   \n",
       "\n",
       "                              LOCATION  COMMUNITY BOARD  COUNCIL DISTRICT  \\\n",
       "0  (40.826932154585, -73.925286438191)              4.0              16.0   \n",
       "1  (40.845930919837, -73.896555813219)              6.0              15.0   \n",
       "2  (40.822390591115, -73.946767934183)              9.0               9.0   \n",
       "3  (40.873779859166, -73.885892352785)              7.0              11.0   \n",
       "4   (40.728739451411, -73.98158466403)              3.0               2.0   \n",
       "\n",
       "   CENSUS TRACT                 NEIGHBORHOOD  inspection_year  \\\n",
       "0        6301.0  Concourse-Concourse Village             2016   \n",
       "1         395.0                      Tremont             2016   \n",
       "2         227.0  Hamilton Heights-Sugar Hill             2014   \n",
       "3         413.0                 Bedford Park             2023   \n",
       "4          34.0                 East Village             2019   \n",
       "\n",
       "   inspection_month  \n",
       "0                 9  \n",
       "1                11  \n",
       "2                 9  \n",
       "3                 2  \n",
       "4                 4  "
      ]
     },
     "execution_count": 4,
     "metadata": {},
     "output_type": "execute_result"
    }
   ],
   "source": [
    "# Examine dataframe.\n",
    "\n",
    "df.head()"
   ]
  },
  {
   "cell_type": "code",
   "execution_count": 5,
   "id": "13ae5e1e",
   "metadata": {},
   "outputs": [
    {
     "name": "stdout",
     "output_type": "stream",
     "text": [
      "<class 'pandas.core.frame.DataFrame'>\n",
      "RangeIndex: 1908367 entries, 0 to 1908366\n",
      "Data columns (total 17 columns):\n",
      " #   Column            Dtype  \n",
      "---  ------            -----  \n",
      " 0   Unnamed: 0        int64  \n",
      " 1   INSPECTION_TYPE   object \n",
      " 2   JOB_PROGRESS      int64  \n",
      " 3   BORO_CODE         int64  \n",
      " 4   ZIP_CODE          float64\n",
      " 5   LATITUDE          float64\n",
      " 6   LONGITUDE         float64\n",
      " 7   BOROUGH           object \n",
      " 8   INSPECTION_DATE   object \n",
      " 9   RESULT            object \n",
      " 10  LOCATION          object \n",
      " 11  COMMUNITY BOARD   float64\n",
      " 12  COUNCIL DISTRICT  float64\n",
      " 13  CENSUS TRACT      float64\n",
      " 14  NEIGHBORHOOD      object \n",
      " 15  inspection_year   int64  \n",
      " 16  inspection_month  int64  \n",
      "dtypes: float64(6), int64(5), object(6)\n",
      "memory usage: 247.5+ MB\n"
     ]
    }
   ],
   "source": [
    "df.info()"
   ]
  },
  {
   "cell_type": "code",
   "execution_count": 6,
   "id": "0f7c08d0",
   "metadata": {},
   "outputs": [],
   "source": [
    "# Reset index so that you can use the \"Date\" column as a filter\n",
    "\n",
    "df = df.reset_index()"
   ]
  },
  {
   "cell_type": "code",
   "execution_count": 7,
   "id": "efd27b18",
   "metadata": {},
   "outputs": [
    {
     "data": {
      "text/plain": [
       "inspection_year\n",
       "2018    241754\n",
       "2019    237148\n",
       "2017    235447\n",
       "2016    170422\n",
       "2012    165551\n",
       "2011    149935\n",
       "2010    149004\n",
       "2015    128677\n",
       "2014    128428\n",
       "2013    127210\n",
       "2022     48890\n",
       "2023     42784\n",
       "2021     34117\n",
       "2020     25789\n",
       "2009     19271\n",
       "2024      3910\n",
       "2001        13\n",
       "2003         5\n",
       "2002         5\n",
       "2008         4\n",
       "2000         2\n",
       "2007         1\n",
       "Name: count, dtype: int64"
      ]
     },
     "execution_count": 7,
     "metadata": {},
     "output_type": "execute_result"
    }
   ],
   "source": [
    "# Find number of rat inspections for \"year\" variable.\n",
    "\n",
    "df['inspection_year'].value_counts(dropna = False)"
   ]
  },
  {
   "cell_type": "code",
   "execution_count": 8,
   "id": "f00bc117",
   "metadata": {},
   "outputs": [
    {
     "data": {
      "text/html": [
       "<div>\n",
       "<style scoped>\n",
       "    .dataframe tbody tr th:only-of-type {\n",
       "        vertical-align: middle;\n",
       "    }\n",
       "\n",
       "    .dataframe tbody tr th {\n",
       "        vertical-align: top;\n",
       "    }\n",
       "\n",
       "    .dataframe thead th {\n",
       "        text-align: right;\n",
       "    }\n",
       "</style>\n",
       "<table border=\"1\" class=\"dataframe\">\n",
       "  <thead>\n",
       "    <tr style=\"text-align: right;\">\n",
       "      <th></th>\n",
       "      <th>inspection_year</th>\n",
       "      <th>count</th>\n",
       "    </tr>\n",
       "  </thead>\n",
       "  <tbody>\n",
       "    <tr>\n",
       "      <th>0</th>\n",
       "      <td>2018</td>\n",
       "      <td>241754</td>\n",
       "    </tr>\n",
       "    <tr>\n",
       "      <th>1</th>\n",
       "      <td>2019</td>\n",
       "      <td>237148</td>\n",
       "    </tr>\n",
       "    <tr>\n",
       "      <th>2</th>\n",
       "      <td>2017</td>\n",
       "      <td>235447</td>\n",
       "    </tr>\n",
       "    <tr>\n",
       "      <th>3</th>\n",
       "      <td>2016</td>\n",
       "      <td>170422</td>\n",
       "    </tr>\n",
       "    <tr>\n",
       "      <th>4</th>\n",
       "      <td>2012</td>\n",
       "      <td>165551</td>\n",
       "    </tr>\n",
       "    <tr>\n",
       "      <th>5</th>\n",
       "      <td>2011</td>\n",
       "      <td>149935</td>\n",
       "    </tr>\n",
       "    <tr>\n",
       "      <th>6</th>\n",
       "      <td>2010</td>\n",
       "      <td>149004</td>\n",
       "    </tr>\n",
       "    <tr>\n",
       "      <th>7</th>\n",
       "      <td>2015</td>\n",
       "      <td>128677</td>\n",
       "    </tr>\n",
       "    <tr>\n",
       "      <th>8</th>\n",
       "      <td>2014</td>\n",
       "      <td>128428</td>\n",
       "    </tr>\n",
       "    <tr>\n",
       "      <th>9</th>\n",
       "      <td>2013</td>\n",
       "      <td>127210</td>\n",
       "    </tr>\n",
       "    <tr>\n",
       "      <th>10</th>\n",
       "      <td>2022</td>\n",
       "      <td>48890</td>\n",
       "    </tr>\n",
       "    <tr>\n",
       "      <th>11</th>\n",
       "      <td>2023</td>\n",
       "      <td>42784</td>\n",
       "    </tr>\n",
       "    <tr>\n",
       "      <th>12</th>\n",
       "      <td>2021</td>\n",
       "      <td>34117</td>\n",
       "    </tr>\n",
       "    <tr>\n",
       "      <th>13</th>\n",
       "      <td>2020</td>\n",
       "      <td>25789</td>\n",
       "    </tr>\n",
       "    <tr>\n",
       "      <th>14</th>\n",
       "      <td>2009</td>\n",
       "      <td>19271</td>\n",
       "    </tr>\n",
       "    <tr>\n",
       "      <th>15</th>\n",
       "      <td>2024</td>\n",
       "      <td>3910</td>\n",
       "    </tr>\n",
       "    <tr>\n",
       "      <th>16</th>\n",
       "      <td>2001</td>\n",
       "      <td>13</td>\n",
       "    </tr>\n",
       "    <tr>\n",
       "      <th>17</th>\n",
       "      <td>2003</td>\n",
       "      <td>5</td>\n",
       "    </tr>\n",
       "    <tr>\n",
       "      <th>18</th>\n",
       "      <td>2002</td>\n",
       "      <td>5</td>\n",
       "    </tr>\n",
       "    <tr>\n",
       "      <th>19</th>\n",
       "      <td>2008</td>\n",
       "      <td>4</td>\n",
       "    </tr>\n",
       "    <tr>\n",
       "      <th>20</th>\n",
       "      <td>2000</td>\n",
       "      <td>2</td>\n",
       "    </tr>\n",
       "    <tr>\n",
       "      <th>21</th>\n",
       "      <td>2007</td>\n",
       "      <td>1</td>\n",
       "    </tr>\n",
       "  </tbody>\n",
       "</table>\n",
       "</div>"
      ],
      "text/plain": [
       "    inspection_year   count\n",
       "0              2018  241754\n",
       "1              2019  237148\n",
       "2              2017  235447\n",
       "3              2016  170422\n",
       "4              2012  165551\n",
       "5              2011  149935\n",
       "6              2010  149004\n",
       "7              2015  128677\n",
       "8              2014  128428\n",
       "9              2013  127210\n",
       "10             2022   48890\n",
       "11             2023   42784\n",
       "12             2021   34117\n",
       "13             2020   25789\n",
       "14             2009   19271\n",
       "15             2024    3910\n",
       "16             2001      13\n",
       "17             2003       5\n",
       "18             2002       5\n",
       "19             2008       4\n",
       "20             2000       2\n",
       "21             2007       1"
      ]
     },
     "execution_count": 8,
     "metadata": {},
     "output_type": "execute_result"
    }
   ],
   "source": [
    "# Convert \"year\" value_counts to output to dataframe.\n",
    "\n",
    "data_sub = df['inspection_year'].value_counts().reset_index().rename(columns={\"index\": \"value\", 0: \"result count\"})\n",
    "data_sub"
   ]
  },
  {
   "cell_type": "code",
   "execution_count": 14,
   "id": "b2f2bef9",
   "metadata": {},
   "outputs": [],
   "source": [
    "# Create second subset dataframe to convert inspection_year to datetime.\n",
    "\n",
    "data_sub_1 = data_sub"
   ]
  },
  {
   "cell_type": "code",
   "execution_count": 15,
   "id": "7f0e21ba",
   "metadata": {},
   "outputs": [
    {
     "data": {
      "text/html": [
       "<div>\n",
       "<style scoped>\n",
       "    .dataframe tbody tr th:only-of-type {\n",
       "        vertical-align: middle;\n",
       "    }\n",
       "\n",
       "    .dataframe tbody tr th {\n",
       "        vertical-align: top;\n",
       "    }\n",
       "\n",
       "    .dataframe thead th {\n",
       "        text-align: right;\n",
       "    }\n",
       "</style>\n",
       "<table border=\"1\" class=\"dataframe\">\n",
       "  <thead>\n",
       "    <tr style=\"text-align: right;\">\n",
       "      <th></th>\n",
       "      <th>inspection_year</th>\n",
       "      <th>count</th>\n",
       "    </tr>\n",
       "  </thead>\n",
       "  <tbody>\n",
       "    <tr>\n",
       "      <th>0</th>\n",
       "      <td>2018</td>\n",
       "      <td>241754</td>\n",
       "    </tr>\n",
       "    <tr>\n",
       "      <th>1</th>\n",
       "      <td>2019</td>\n",
       "      <td>237148</td>\n",
       "    </tr>\n",
       "    <tr>\n",
       "      <th>2</th>\n",
       "      <td>2017</td>\n",
       "      <td>235447</td>\n",
       "    </tr>\n",
       "    <tr>\n",
       "      <th>3</th>\n",
       "      <td>2016</td>\n",
       "      <td>170422</td>\n",
       "    </tr>\n",
       "    <tr>\n",
       "      <th>4</th>\n",
       "      <td>2012</td>\n",
       "      <td>165551</td>\n",
       "    </tr>\n",
       "    <tr>\n",
       "      <th>5</th>\n",
       "      <td>2011</td>\n",
       "      <td>149935</td>\n",
       "    </tr>\n",
       "    <tr>\n",
       "      <th>6</th>\n",
       "      <td>2010</td>\n",
       "      <td>149004</td>\n",
       "    </tr>\n",
       "    <tr>\n",
       "      <th>7</th>\n",
       "      <td>2015</td>\n",
       "      <td>128677</td>\n",
       "    </tr>\n",
       "    <tr>\n",
       "      <th>8</th>\n",
       "      <td>2014</td>\n",
       "      <td>128428</td>\n",
       "    </tr>\n",
       "    <tr>\n",
       "      <th>9</th>\n",
       "      <td>2013</td>\n",
       "      <td>127210</td>\n",
       "    </tr>\n",
       "    <tr>\n",
       "      <th>10</th>\n",
       "      <td>2022</td>\n",
       "      <td>48890</td>\n",
       "    </tr>\n",
       "    <tr>\n",
       "      <th>11</th>\n",
       "      <td>2023</td>\n",
       "      <td>42784</td>\n",
       "    </tr>\n",
       "    <tr>\n",
       "      <th>12</th>\n",
       "      <td>2021</td>\n",
       "      <td>34117</td>\n",
       "    </tr>\n",
       "    <tr>\n",
       "      <th>13</th>\n",
       "      <td>2020</td>\n",
       "      <td>25789</td>\n",
       "    </tr>\n",
       "    <tr>\n",
       "      <th>14</th>\n",
       "      <td>2009</td>\n",
       "      <td>19271</td>\n",
       "    </tr>\n",
       "    <tr>\n",
       "      <th>15</th>\n",
       "      <td>2024</td>\n",
       "      <td>3910</td>\n",
       "    </tr>\n",
       "    <tr>\n",
       "      <th>16</th>\n",
       "      <td>2001</td>\n",
       "      <td>13</td>\n",
       "    </tr>\n",
       "    <tr>\n",
       "      <th>17</th>\n",
       "      <td>2003</td>\n",
       "      <td>5</td>\n",
       "    </tr>\n",
       "    <tr>\n",
       "      <th>18</th>\n",
       "      <td>2002</td>\n",
       "      <td>5</td>\n",
       "    </tr>\n",
       "    <tr>\n",
       "      <th>19</th>\n",
       "      <td>2008</td>\n",
       "      <td>4</td>\n",
       "    </tr>\n",
       "    <tr>\n",
       "      <th>20</th>\n",
       "      <td>2000</td>\n",
       "      <td>2</td>\n",
       "    </tr>\n",
       "    <tr>\n",
       "      <th>21</th>\n",
       "      <td>2007</td>\n",
       "      <td>1</td>\n",
       "    </tr>\n",
       "  </tbody>\n",
       "</table>\n",
       "</div>"
      ],
      "text/plain": [
       "    inspection_year   count\n",
       "0              2018  241754\n",
       "1              2019  237148\n",
       "2              2017  235447\n",
       "3              2016  170422\n",
       "4              2012  165551\n",
       "5              2011  149935\n",
       "6              2010  149004\n",
       "7              2015  128677\n",
       "8              2014  128428\n",
       "9              2013  127210\n",
       "10             2022   48890\n",
       "11             2023   42784\n",
       "12             2021   34117\n",
       "13             2020   25789\n",
       "14             2009   19271\n",
       "15             2024    3910\n",
       "16             2001      13\n",
       "17             2003       5\n",
       "18             2002       5\n",
       "19             2008       4\n",
       "20             2000       2\n",
       "21             2007       1"
      ]
     },
     "execution_count": 15,
     "metadata": {},
     "output_type": "execute_result"
    }
   ],
   "source": [
    "# Check output.\n",
    "\n",
    "data_sub_1"
   ]
  },
  {
   "cell_type": "code",
   "execution_count": 16,
   "id": "50d0b317",
   "metadata": {},
   "outputs": [],
   "source": [
    "# Convert year variable to datetime.\n",
    "\n",
    "data_sub_1['inspection_year'] = pd.to_datetime(data_sub_1['inspection_year'], format='%Y')"
   ]
  },
  {
   "cell_type": "code",
   "execution_count": 18,
   "id": "6d2131d8",
   "metadata": {},
   "outputs": [
    {
     "data": {
      "text/plain": [
       "dtype('<M8[ns]')"
      ]
     },
     "execution_count": 18,
     "metadata": {},
     "output_type": "execute_result"
    }
   ],
   "source": [
    "# Check datatype conversion.\n",
    "\n",
    "data_sub_1['inspection_year'].dtype"
   ]
  },
  {
   "cell_type": "code",
   "execution_count": 19,
   "id": "3225de5b",
   "metadata": {},
   "outputs": [
    {
     "data": {
      "text/html": [
       "<div>\n",
       "<style scoped>\n",
       "    .dataframe tbody tr th:only-of-type {\n",
       "        vertical-align: middle;\n",
       "    }\n",
       "\n",
       "    .dataframe tbody tr th {\n",
       "        vertical-align: top;\n",
       "    }\n",
       "\n",
       "    .dataframe thead th {\n",
       "        text-align: right;\n",
       "    }\n",
       "</style>\n",
       "<table border=\"1\" class=\"dataframe\">\n",
       "  <thead>\n",
       "    <tr style=\"text-align: right;\">\n",
       "      <th></th>\n",
       "      <th>count</th>\n",
       "    </tr>\n",
       "    <tr>\n",
       "      <th>datetime</th>\n",
       "      <th></th>\n",
       "    </tr>\n",
       "  </thead>\n",
       "  <tbody>\n",
       "    <tr>\n",
       "      <th>2018-01-01</th>\n",
       "      <td>241754</td>\n",
       "    </tr>\n",
       "    <tr>\n",
       "      <th>2019-01-01</th>\n",
       "      <td>237148</td>\n",
       "    </tr>\n",
       "    <tr>\n",
       "      <th>2017-01-01</th>\n",
       "      <td>235447</td>\n",
       "    </tr>\n",
       "    <tr>\n",
       "      <th>2016-01-01</th>\n",
       "      <td>170422</td>\n",
       "    </tr>\n",
       "    <tr>\n",
       "      <th>2012-01-01</th>\n",
       "      <td>165551</td>\n",
       "    </tr>\n",
       "  </tbody>\n",
       "</table>\n",
       "</div>"
      ],
      "text/plain": [
       "             count\n",
       "datetime          \n",
       "2018-01-01  241754\n",
       "2019-01-01  237148\n",
       "2017-01-01  235447\n",
       "2016-01-01  170422\n",
       "2012-01-01  165551"
      ]
     },
     "execution_count": 19,
     "metadata": {},
     "output_type": "execute_result"
    }
   ],
   "source": [
    "# Set the \"year\" column as the index\n",
    "\n",
    "from datetime import datetime\n",
    "\n",
    "data_sub_1['datetime'] = pd.to_datetime(data_sub_1['inspection_year']) # Create a datetime column from \"Date.\"\"\n",
    "data_sub_1 = data_sub_1.set_index('datetime') # Set the datetime as the index of the dataframe.\n",
    "data_sub_1.drop(['inspection_year'], axis=1, inplace=True) # Drop the \"Date\" column.\n",
    "data_sub_1.head()"
   ]
  },
  {
   "cell_type": "code",
   "execution_count": 20,
   "id": "ba8912aa",
   "metadata": {},
   "outputs": [],
   "source": [
    "# Sort index values to chronological.\n",
    "\n",
    "data_sub_1.sort_index(inplace=True)"
   ]
  },
  {
   "cell_type": "code",
   "execution_count": 21,
   "id": "426ded71",
   "metadata": {},
   "outputs": [
    {
     "data": {
      "text/html": [
       "<div>\n",
       "<style scoped>\n",
       "    .dataframe tbody tr th:only-of-type {\n",
       "        vertical-align: middle;\n",
       "    }\n",
       "\n",
       "    .dataframe tbody tr th {\n",
       "        vertical-align: top;\n",
       "    }\n",
       "\n",
       "    .dataframe thead th {\n",
       "        text-align: right;\n",
       "    }\n",
       "</style>\n",
       "<table border=\"1\" class=\"dataframe\">\n",
       "  <thead>\n",
       "    <tr style=\"text-align: right;\">\n",
       "      <th></th>\n",
       "      <th>count</th>\n",
       "    </tr>\n",
       "    <tr>\n",
       "      <th>datetime</th>\n",
       "      <th></th>\n",
       "    </tr>\n",
       "  </thead>\n",
       "  <tbody>\n",
       "    <tr>\n",
       "      <th>2000-01-01</th>\n",
       "      <td>2</td>\n",
       "    </tr>\n",
       "    <tr>\n",
       "      <th>2001-01-01</th>\n",
       "      <td>13</td>\n",
       "    </tr>\n",
       "    <tr>\n",
       "      <th>2002-01-01</th>\n",
       "      <td>5</td>\n",
       "    </tr>\n",
       "    <tr>\n",
       "      <th>2003-01-01</th>\n",
       "      <td>5</td>\n",
       "    </tr>\n",
       "    <tr>\n",
       "      <th>2007-01-01</th>\n",
       "      <td>1</td>\n",
       "    </tr>\n",
       "    <tr>\n",
       "      <th>2008-01-01</th>\n",
       "      <td>4</td>\n",
       "    </tr>\n",
       "    <tr>\n",
       "      <th>2009-01-01</th>\n",
       "      <td>19271</td>\n",
       "    </tr>\n",
       "    <tr>\n",
       "      <th>2010-01-01</th>\n",
       "      <td>149004</td>\n",
       "    </tr>\n",
       "    <tr>\n",
       "      <th>2011-01-01</th>\n",
       "      <td>149935</td>\n",
       "    </tr>\n",
       "    <tr>\n",
       "      <th>2012-01-01</th>\n",
       "      <td>165551</td>\n",
       "    </tr>\n",
       "    <tr>\n",
       "      <th>2013-01-01</th>\n",
       "      <td>127210</td>\n",
       "    </tr>\n",
       "    <tr>\n",
       "      <th>2014-01-01</th>\n",
       "      <td>128428</td>\n",
       "    </tr>\n",
       "    <tr>\n",
       "      <th>2015-01-01</th>\n",
       "      <td>128677</td>\n",
       "    </tr>\n",
       "    <tr>\n",
       "      <th>2016-01-01</th>\n",
       "      <td>170422</td>\n",
       "    </tr>\n",
       "    <tr>\n",
       "      <th>2017-01-01</th>\n",
       "      <td>235447</td>\n",
       "    </tr>\n",
       "    <tr>\n",
       "      <th>2018-01-01</th>\n",
       "      <td>241754</td>\n",
       "    </tr>\n",
       "    <tr>\n",
       "      <th>2019-01-01</th>\n",
       "      <td>237148</td>\n",
       "    </tr>\n",
       "    <tr>\n",
       "      <th>2020-01-01</th>\n",
       "      <td>25789</td>\n",
       "    </tr>\n",
       "    <tr>\n",
       "      <th>2021-01-01</th>\n",
       "      <td>34117</td>\n",
       "    </tr>\n",
       "    <tr>\n",
       "      <th>2022-01-01</th>\n",
       "      <td>48890</td>\n",
       "    </tr>\n",
       "    <tr>\n",
       "      <th>2023-01-01</th>\n",
       "      <td>42784</td>\n",
       "    </tr>\n",
       "    <tr>\n",
       "      <th>2024-01-01</th>\n",
       "      <td>3910</td>\n",
       "    </tr>\n",
       "  </tbody>\n",
       "</table>\n",
       "</div>"
      ],
      "text/plain": [
       "             count\n",
       "datetime          \n",
       "2000-01-01       2\n",
       "2001-01-01      13\n",
       "2002-01-01       5\n",
       "2003-01-01       5\n",
       "2007-01-01       1\n",
       "2008-01-01       4\n",
       "2009-01-01   19271\n",
       "2010-01-01  149004\n",
       "2011-01-01  149935\n",
       "2012-01-01  165551\n",
       "2013-01-01  127210\n",
       "2014-01-01  128428\n",
       "2015-01-01  128677\n",
       "2016-01-01  170422\n",
       "2017-01-01  235447\n",
       "2018-01-01  241754\n",
       "2019-01-01  237148\n",
       "2020-01-01   25789\n",
       "2021-01-01   34117\n",
       "2022-01-01   48890\n",
       "2023-01-01   42784\n",
       "2024-01-01    3910"
      ]
     },
     "execution_count": 21,
     "metadata": {},
     "output_type": "execute_result"
    }
   ],
   "source": [
    "# Check output.\n",
    "\n",
    "data_sub_1"
   ]
  },
  {
   "cell_type": "code",
   "execution_count": 22,
   "id": "53c5bd09",
   "metadata": {},
   "outputs": [
    {
     "data": {
      "text/plain": [
       "count    0\n",
       "dtype: int64"
      ]
     },
     "execution_count": 22,
     "metadata": {},
     "output_type": "execute_result"
    }
   ],
   "source": [
    "# Check for missing values.\n",
    "\n",
    "data_sub_1.isnull().sum() "
   ]
  },
  {
   "cell_type": "markdown",
   "id": "2f1ac59c",
   "metadata": {},
   "source": [
    "I selected to subset the data points \"year\" and counts for each year from the original rat dataset. (I previously merged the rat dataset with a second dataset containing financial/condo rental information, but the resulting merged dataset did not contain any inspections in 2022, i.e. none of the 2022 rat inspections had BBL codes included in the financial/condo data set.) In the original dataset, each row is a single inspection, so some locations have multiple rows if they failed and subsequently repeated inspections for compliance purposes. I initially subset with the datetime variable \"INSPECTION_DATE,\" but the granularity of the format (%y%m%d %H%M%S) led to an indecipherable plot. I ultimately settled on counts for the number of inspections that occurred each year, which provides a big picture of how many inspections occurred overall and also avoids the issue of potential duplicates."
   ]
  },
  {
   "cell_type": "markdown",
   "id": "bd038bdb",
   "metadata": {},
   "source": [
    "### 3. Line chart and time series analysis: decomposition"
   ]
  },
  {
   "cell_type": "code",
   "execution_count": 25,
   "id": "78b3a262",
   "metadata": {},
   "outputs": [
    {
     "data": {
      "text/plain": [
       "[<matplotlib.lines.Line2D at 0x1a6b199dd50>]"
      ]
     },
     "execution_count": 25,
     "metadata": {},
     "output_type": "execute_result"
    },
    {
     "data": {
      "image/png": "[encoded data removed]",
      "text/plain": [
       "<Figure size 1500x500 with 1 Axes>"
      ]
     },
     "metadata": {},
     "output_type": "display_data"
    }
   ],
   "source": [
    "# Plot the new data set.\n",
    "\n",
    "plt.figure(figsize=(15,5), dpi=100)\n",
    "plt.plot(data_sub_1)"
   ]
  },
  {
   "cell_type": "markdown",
   "id": "f806edc3",
   "metadata": {},
   "source": [
    "The coronavirus pandemic in 2020 obviously impacted the number of rat inspections that occurred since New York City was especially affected by the virus and quarantine measures severely limited the department's ability to conduct on-site inspections. The number of inspections reported significantly increased after 2008 and peaked in 2018."
   ]
  },
  {
   "cell_type": "code",
   "execution_count": 37,
   "id": "a37a0996",
   "metadata": {},
   "outputs": [],
   "source": [
    "# Decompose the time series using an additive model.\n",
    "\n",
    "decomposition = sm.tsa.seasonal_decompose(data_sub_1, model='additive', extrapolate_trend='freq', period=1)"
   ]
  },
  {
   "cell_type": "code",
   "execution_count": 39,
   "id": "4c46938b",
   "metadata": {},
   "outputs": [],
   "source": [
    "# Define a fixed size for all special charts.\n",
    "\n",
    "from pylab import rcParams \n",
    "\n",
    "rcParams['figure.figsize'] = 18, 7"
   ]
  },
  {
   "cell_type": "code",
   "execution_count": 40,
   "id": "8b2bfa21",
   "metadata": {},
   "outputs": [
    {
     "data": {
      "image/png": "[encoded data removed]",
      "text/plain": [
       "<Figure size 1800x700 with 4 Axes>"
      ]
     },
     "metadata": {},
     "output_type": "display_data"
    }
   ],
   "source": [
    "# Plot the separate components.\n",
    "\n",
    "decomposition.plot()\n",
    "plt.show()"
   ]
  },
  {
   "cell_type": "markdown",
   "id": "c032ba88",
   "metadata": {},
   "source": [
    "The level and underlying trend appear the same, indicating that the data does not have much residual noise and doesn't need to be smoothed. The seasonality appears to be flat, indicating there is no seasonality in the number of rat inspections that occur each year."
   ]
  },
  {
   "cell_type": "markdown",
   "id": "4ade9d65",
   "metadata": {},
   "source": [
    "### 4. Dickey-Fuller test for stationarity & results interpretation"
   ]
  },
  {
   "cell_type": "markdown",
   "id": "7569dae1",
   "metadata": {},
   "source": [
    "##### Null hypothesis: The dataset has a unit root and is therefore non-stationary.\n",
    "\n",
    "##### Alternative hypothesis: The dataset does not have a unit root and is therefore stationary and can be used to forecast."
   ]
  },
  {
   "cell_type": "code",
   "execution_count": 41,
   "id": "480d220e",
   "metadata": {},
   "outputs": [
    {
     "name": "stdout",
     "output_type": "stream",
     "text": [
      "Dickey-Fuller Stationarity test:\n",
      "Test Statistic                 -5.492952\n",
      "p-value                         0.000002\n",
      "Number of Lags Used             9.000000\n",
      "Number of Observations Used    12.000000\n",
      "Critical Value (1%)            -4.137829\n",
      "Critical Value (5%)            -3.154972\n",
      "Critical Value (10%)           -2.714477\n",
      "dtype: float64\n"
     ]
    }
   ],
   "source": [
    "# Import the adfuller() function and define a function that prints the correct output from the adfuller() array.\n",
    "\n",
    "from statsmodels.tsa.stattools import adfuller \n",
    "\n",
    "def dickey_fuller(timeseries): # Define the function.\n",
    "    # Perform the Dickey-Fuller test:\n",
    "    print ('Dickey-Fuller Stationarity test:')\n",
    "    test = adfuller(timeseries, autolag='AIC')\n",
    "    result = pd.Series(test[0:4], index=['Test Statistic','p-value','Number of Lags Used','Number of Observations Used'])\n",
    "    for key,value in test[4].items():\n",
    "       result['Critical Value (%s)'%key] = value\n",
    "    print (result)\n",
    "\n",
    "# Apply the test using the function on the time series.\n",
    "dickey_fuller(data_sub_1['count'])"
   ]
  },
  {
   "cell_type": "markdown",
   "id": "78352149",
   "metadata": {},
   "source": [
    "The test statistic (-5.49) is less than any of the critical values in the stationarity test, so the above null hypothesis that the dataset is non-stationary can be disproved, meaning the dataset can be used for forecasting.\n",
    "\n",
    "I wanted to get some practice with stationarizing data, so despite these results, I conducted a round of differencing below."
   ]
  },
  {
   "cell_type": "markdown",
   "id": "fd4be94e",
   "metadata": {},
   "source": [
    "### 5. Stationarizing: differencing"
   ]
  },
  {
   "cell_type": "code",
   "execution_count": 116,
   "id": "86637874",
   "metadata": {},
   "outputs": [],
   "source": [
    "# Conduct a round of differencing.\n",
    "\n",
    "data_diff = data_sub_1 - data_sub_1.shift(1)"
   ]
  },
  {
   "cell_type": "code",
   "execution_count": 117,
   "id": "d50e9b0c",
   "metadata": {},
   "outputs": [],
   "source": [
    "# Remove missing values that result from differencing.\n",
    "\n",
    "data_diff.dropna(inplace = True)"
   ]
  },
  {
   "cell_type": "code",
   "execution_count": 118,
   "id": "9ad38333",
   "metadata": {},
   "outputs": [
    {
     "data": {
      "text/html": [
       "<div>\n",
       "<style scoped>\n",
       "    .dataframe tbody tr th:only-of-type {\n",
       "        vertical-align: middle;\n",
       "    }\n",
       "\n",
       "    .dataframe tbody tr th {\n",
       "        vertical-align: top;\n",
       "    }\n",
       "\n",
       "    .dataframe thead th {\n",
       "        text-align: right;\n",
       "    }\n",
       "</style>\n",
       "<table border=\"1\" class=\"dataframe\">\n",
       "  <thead>\n",
       "    <tr style=\"text-align: right;\">\n",
       "      <th></th>\n",
       "      <th>count</th>\n",
       "    </tr>\n",
       "    <tr>\n",
       "      <th>datetime</th>\n",
       "      <th></th>\n",
       "    </tr>\n",
       "  </thead>\n",
       "  <tbody>\n",
       "    <tr>\n",
       "      <th>2001-01-01</th>\n",
       "      <td>11.0</td>\n",
       "    </tr>\n",
       "    <tr>\n",
       "      <th>2002-01-01</th>\n",
       "      <td>-8.0</td>\n",
       "    </tr>\n",
       "    <tr>\n",
       "      <th>2003-01-01</th>\n",
       "      <td>0.0</td>\n",
       "    </tr>\n",
       "    <tr>\n",
       "      <th>2007-01-01</th>\n",
       "      <td>-4.0</td>\n",
       "    </tr>\n",
       "    <tr>\n",
       "      <th>2008-01-01</th>\n",
       "      <td>3.0</td>\n",
       "    </tr>\n",
       "    <tr>\n",
       "      <th>2009-01-01</th>\n",
       "      <td>19267.0</td>\n",
       "    </tr>\n",
       "    <tr>\n",
       "      <th>2010-01-01</th>\n",
       "      <td>129733.0</td>\n",
       "    </tr>\n",
       "    <tr>\n",
       "      <th>2011-01-01</th>\n",
       "      <td>931.0</td>\n",
       "    </tr>\n",
       "    <tr>\n",
       "      <th>2012-01-01</th>\n",
       "      <td>15616.0</td>\n",
       "    </tr>\n",
       "    <tr>\n",
       "      <th>2013-01-01</th>\n",
       "      <td>-38341.0</td>\n",
       "    </tr>\n",
       "    <tr>\n",
       "      <th>2014-01-01</th>\n",
       "      <td>1218.0</td>\n",
       "    </tr>\n",
       "    <tr>\n",
       "      <th>2015-01-01</th>\n",
       "      <td>249.0</td>\n",
       "    </tr>\n",
       "    <tr>\n",
       "      <th>2016-01-01</th>\n",
       "      <td>41745.0</td>\n",
       "    </tr>\n",
       "    <tr>\n",
       "      <th>2017-01-01</th>\n",
       "      <td>65025.0</td>\n",
       "    </tr>\n",
       "    <tr>\n",
       "      <th>2018-01-01</th>\n",
       "      <td>6307.0</td>\n",
       "    </tr>\n",
       "    <tr>\n",
       "      <th>2019-01-01</th>\n",
       "      <td>-4606.0</td>\n",
       "    </tr>\n",
       "    <tr>\n",
       "      <th>2020-01-01</th>\n",
       "      <td>-211359.0</td>\n",
       "    </tr>\n",
       "    <tr>\n",
       "      <th>2021-01-01</th>\n",
       "      <td>8328.0</td>\n",
       "    </tr>\n",
       "    <tr>\n",
       "      <th>2022-01-01</th>\n",
       "      <td>14773.0</td>\n",
       "    </tr>\n",
       "    <tr>\n",
       "      <th>2023-01-01</th>\n",
       "      <td>-6106.0</td>\n",
       "    </tr>\n",
       "    <tr>\n",
       "      <th>2024-01-01</th>\n",
       "      <td>-38874.0</td>\n",
       "    </tr>\n",
       "  </tbody>\n",
       "</table>\n",
       "</div>"
      ],
      "text/plain": [
       "               count\n",
       "datetime            \n",
       "2001-01-01      11.0\n",
       "2002-01-01      -8.0\n",
       "2003-01-01       0.0\n",
       "2007-01-01      -4.0\n",
       "2008-01-01       3.0\n",
       "2009-01-01   19267.0\n",
       "2010-01-01  129733.0\n",
       "2011-01-01     931.0\n",
       "2012-01-01   15616.0\n",
       "2013-01-01  -38341.0\n",
       "2014-01-01    1218.0\n",
       "2015-01-01     249.0\n",
       "2016-01-01   41745.0\n",
       "2017-01-01   65025.0\n",
       "2018-01-01    6307.0\n",
       "2019-01-01   -4606.0\n",
       "2020-01-01 -211359.0\n",
       "2021-01-01    8328.0\n",
       "2022-01-01   14773.0\n",
       "2023-01-01   -6106.0\n",
       "2024-01-01  -38874.0"
      ]
     },
     "execution_count": 118,
     "metadata": {},
     "output_type": "execute_result"
    }
   ],
   "source": [
    "# Check data_diff output.\n",
    "\n",
    "data_diff"
   ]
  },
  {
   "cell_type": "code",
   "execution_count": 119,
   "id": "4c1e9838",
   "metadata": {},
   "outputs": [
    {
     "data": {
      "text/plain": [
       "Index(['count'], dtype='object')"
      ]
     },
     "execution_count": 119,
     "metadata": {},
     "output_type": "execute_result"
    }
   ],
   "source": [
    "data_diff.columns"
   ]
  },
  {
   "cell_type": "code",
   "execution_count": 120,
   "id": "876371f7",
   "metadata": {},
   "outputs": [
    {
     "data": {
      "text/plain": [
       "[<matplotlib.lines.Line2D at 0x1a70973dd50>]"
      ]
     },
     "execution_count": 120,
     "metadata": {},
     "output_type": "execute_result"
    },
    {
     "data": {
      "image/png": "[encoded data removed]",
      "text/plain": [
       "<Figure size 1500x500 with 1 Axes>"
      ]
     },
     "metadata": {},
     "output_type": "display_data"
    }
   ],
   "source": [
    "# Examine what the differencing did to the time-series curve.\n",
    "\n",
    "plt.figure(figsize=(15,5), dpi=100)\n",
    "plt.plot(data_diff)"
   ]
  },
  {
   "cell_type": "code",
   "execution_count": 121,
   "id": "0af361ca",
   "metadata": {},
   "outputs": [
    {
     "name": "stdout",
     "output_type": "stream",
     "text": [
      "Dickey-Fuller Stationarity test:\n",
      "Test Statistic                  1.445135\n",
      "p-value                         0.997310\n",
      "Number of Lags Used             8.000000\n",
      "Number of Observations Used    12.000000\n",
      "Critical Value (1%)            -4.137829\n",
      "Critical Value (5%)            -3.154972\n",
      "Critical Value (10%)           -2.714477\n",
      "dtype: float64\n"
     ]
    }
   ],
   "source": [
    "# Rerun Dickey-Fuller test.\n",
    "\n",
    "dickey_fuller(data_diff)"
   ]
  },
  {
   "cell_type": "markdown",
   "id": "735f3d36",
   "metadata": {},
   "source": [
    "### 6. Check for autocorrelations"
   ]
  },
  {
   "cell_type": "code",
   "execution_count": 122,
   "id": "9020e595",
   "metadata": {},
   "outputs": [
    {
     "data": {
      "image/png": "[encoded data removed]",
      "text/plain": [
       "<Figure size 1800x700 with 1 Axes>"
      ]
     },
     "metadata": {},
     "output_type": "display_data"
    }
   ],
   "source": [
    "# Import the autocorrelation and partial correlation plots and plot autocorrelations.\n",
    "\n",
    "from statsmodels.graphics.tsaplots import plot_acf, plot_pacf \n",
    "\n",
    "plot_acf(data_sub_1)\n",
    "plt.show()"
   ]
  }
 ],
 "metadata": {
  "kernelspec": {
   "display_name": "Python 3 (ipykernel)",
   "language": "python",
   "name": "python3"
  },
  "language_info": {
   "codemirror_mode": {
    "name": "ipython",
    "version": 3
   },
   "file_extension": ".py",
   "mimetype": "text/x-python",
   "name": "python",
   "nbconvert_exporter": "python",
   "pygments_lexer": "ipython3",
   "version": "3.11.5"
  }
 },
 "nbformat": 4,
 "nbformat_minor": 5
}
